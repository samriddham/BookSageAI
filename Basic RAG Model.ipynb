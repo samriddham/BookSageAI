{
  "cells": [
    {
      "cell_type": "code",
      "execution_count": 3,
      "metadata": {
        "colab": {
          "base_uri": "https://localhost:8080/"
        },
        "id": "WpZIVrQsV85o",
        "outputId": "96cfd75f-667e-496b-9e77-76b208178d9a"
      },
      "outputs": [
        {
          "name": "stdout",
          "output_type": "stream",
          "text": [
            "··········\n"
          ]
        }
      ],
      "source": [
        "import getpass\n",
        "import os\n",
        "\n",
        "os.environ[\"LANGSMITH_TRACING\"] = \"true\"\n",
        "os.environ[\"LANGSMITH_API_KEY\"] = getpass.getpass()"
      ]
    },
    {
      "cell_type": "code",
      "execution_count": 4,
      "metadata": {
        "id": "7o-9r0REV5rR"
      },
      "outputs": [],
      "source": [
        "%pip install -qU langchain-google-vertexai"
      ]
    },
    {
      "cell_type": "code",
      "execution_count": 5,
      "metadata": {
        "colab": {
          "base_uri": "https://localhost:8080/",
          "height": 17,
          "referenced_widgets": [
            "53cfdc630a424b5ba4348a4bf8553be3",
            "8d36e5efc2a14620903a3b7ae7fc1634",
            "ca60f679d3374fe481d3afdcb0c7c625",
            "e90c17717adb4c3daaf9e5b26b16687a",
            "1c93cc908b354cd58f1013695f97ba18",
            "c3328593378642538b83f294230c389e",
            "331b0b7f8fae404cbab299c4845d03b0",
            "e5711797562f4cd682c4c900036faa51",
            "553b941bbcdd489b83da922379e1cccb",
            "cf255c926aa54eeb8307e07d3085ee1c",
            "dd1fe2ca6ddc4384844b633f81df0b9f",
            "e506c968d93f491a9aca3e5df38c7243",
            "6b9c3d601e944b9aac4fcc5e6ff12dd5",
            "cff196fa66ef48edbaf2caced4701740",
            "2d70319c4b26448e92ef804a122247a6",
            "0d9c0c5e0ac641969e09fd9ef4f9ba16",
            "a7700f7f7c5f4062a03a9830580cf670",
            "b3118b1dfd9f4f7a903524586893303f",
            "83102b2e032d45e492b5647bc5bd3462",
            "59f902c0f00f45fe9ce3b045e30af32a"
          ]
        },
        "id": "aXHRVPQwX0zC",
        "outputId": "508a12f6-1b7b-4cdc-f5df-91d50ecd24b2"
      },
      "outputs": [
        {
          "data": {
            "application/vnd.jupyter.widget-view+json": {
              "model_id": "53cfdc630a424b5ba4348a4bf8553be3",
              "version_major": 2,
              "version_minor": 0
            },
            "text/plain": [
              "VBox(children=(HTML(value='<center> <img\\nsrc=https://huggingface.co/front/assets/huggingface_logo-noborder.sv…"
            ]
          },
          "metadata": {},
          "output_type": "display_data"
        }
      ],
      "source": [
        "from huggingface_hub import notebook_login\n",
        "notebook_login()"
      ]
    },
    {
      "cell_type": "code",
      "execution_count": 6,
      "metadata": {
        "id": "4hRpGYu2WXCv"
      },
      "outputs": [],
      "source": [
        "from langchain_google_vertexai import ChatVertexAI\n",
        "import vertexai\n",
        "\n",
        "vertexai.init(project=\"project_id\")     #Add project id\n",
        "llm = ChatVertexAI(model=\"gemini-1.5-flash\")"
      ]
    },
    {
      "cell_type": "code",
      "execution_count": 14,
      "metadata": {
        "id": "HV-djHardJXp"
      },
      "outputs": [],
      "source": [
        "import getpass\n",
        "import os\n",
        "\n",
        "if not os.environ.get(\"MISTRAL_API_KEY\"):\n",
        "  os.environ[\"MISTRAL_API_KEY\"] = \"mistral_api_key\"   #Add mistral api key\n",
        "\n",
        "from langchain_mistralai import ChatMistralAI\n",
        "\n",
        "llm = ChatMistralAI(model=\"mistral-large-latest\")"
      ]
    },
    {
      "cell_type": "code",
      "execution_count": 7,
      "metadata": {
        "id": "3yKoFIj6cWSu"
      },
      "outputs": [],
      "source": [
        "%pip install -qU langchain-core"
      ]
    },
    {
      "cell_type": "code",
      "execution_count": 8,
      "metadata": {
        "id": "6OwRIOxzcZAh"
      },
      "outputs": [],
      "source": [
        "from langchain_core.embeddings import DeterministicFakeEmbedding\n",
        "\n",
        "embeddings = DeterministicFakeEmbedding(size=4096)"
      ]
    },
    {
      "cell_type": "code",
      "execution_count": 9,
      "metadata": {
        "id": "GSO4YW6nWeNI"
      },
      "outputs": [],
      "source": [
        "%pip install -qU langchain-chroma"
      ]
    },
    {
      "cell_type": "code",
      "execution_count": 10,
      "metadata": {
        "id": "n0YS9p_1WsaH"
      },
      "outputs": [],
      "source": [
        "from langchain_chroma import Chroma\n",
        "\n",
        "vector_store = Chroma(embedding_function=embeddings)"
      ]
    },
    {
      "cell_type": "code",
      "execution_count": 22,
      "metadata": {
        "colab": {
          "base_uri": "https://localhost:8080/"
        },
        "id": "K-9cSZ7xfGJF",
        "outputId": "c40e3203-ff1f-4761-e3b4-c4988f39806f"
      },
      "outputs": [
        {
          "name": "stdout",
          "output_type": "stream",
          "text": [
            "Collecting pypdf\n",
            "  Downloading pypdf-5.1.0-py3-none-any.whl.metadata (7.2 kB)\n",
            "Downloading pypdf-5.1.0-py3-none-any.whl (297 kB)\n",
            "\u001b[?25l   \u001b[90m━━━━━━━━━━━━━━━━━━━━━━━━━━━━━━━━━━━━━━━━\u001b[0m \u001b[32m0.0/298.0 kB\u001b[0m \u001b[31m?\u001b[0m eta \u001b[36m-:--:--\u001b[0m\r\u001b[2K   \u001b[91m━━━━━━━━━━━━━\u001b[0m\u001b[91m╸\u001b[0m\u001b[90m━━━━━━━━━━━━━━━━━━━━━━━━━━\u001b[0m \u001b[32m102.4/298.0 kB\u001b[0m \u001b[31m2.8 MB/s\u001b[0m eta \u001b[36m0:00:01\u001b[0m\r\u001b[2K   \u001b[90m━━━━━━━━━━━━━━━━━━━━━━━━━━━━━━━━━━━━━━━━\u001b[0m \u001b[32m298.0/298.0 kB\u001b[0m \u001b[31m4.5 MB/s\u001b[0m eta \u001b[36m0:00:00\u001b[0m\n",
            "\u001b[?25hInstalling collected packages: pypdf\n",
            "Successfully installed pypdf-5.1.0\n"
          ]
        }
      ],
      "source": [
        "%pip install pypdf"
      ]
    },
    {
      "cell_type": "code",
      "execution_count": 39,
      "metadata": {
        "colab": {
          "base_uri": "https://localhost:8080/"
        },
        "id": "QXl-vJLwZCTA",
        "outputId": "63061e09-a2d9-40fa-c4a5-9fbf87d12567"
      },
      "outputs": [
        {
          "name": "stdout",
          "output_type": "stream",
          "text": [
            "[Document(metadata={'source': '/content/the_secret_history_of_the_mongols_the_life_and_times_of_chinggis_khan1.pdf', 'page': 50, 'page_label': '44'}, page_content='[14] Dobun-mergen loaded up the three-year-old deer.\\nWhile continuing on his way, he met a poor man leading\\nhis young son.\\n[15] Dobun-mergen asked: ‘Who are you?’ The man\\nreplied: ‘I am a man called Ma’aliq of the Baya’uds and in\\ndistress. I will give you this son of mine in exchange for\\npart of that beast’s flesh.’\\n[16] On hearing those words, Dobun-mergen tore off one\\nof the deer’s hind-legs and gave it to the man. He then took\\nthe boy back to his yurt, where the boy worked as a servant.\\n[17] Not long afterwards, Dobun-mergen died. After his\\ndeath, despite the loss of her husband, Alan Qo’a bore\\nthree more sons called Buqu-qadagi, Buqatu-salji, and\\nBodonchar-mungqaq.94\\n[18] Belgünütei and Bügünütei, the two sons born earlier\\nto Dobun-mergen, talked together about their mother Alan\\nQo’a behind her back: This mother of ours has produced\\nthree sons, without [our father’s] older brother, younger\\nbrother, or cousins 95 or any husband. Only the Ma’aliq\\nBaya’ud man lives in this yurt. They are probably his three\\nsons.’ Alan Qo’a sensed what they were saying behind her\\nback.\\n[19] One spring day, after boiling some dried mutton, she\\nmade her five sons, Belgünütei, Bügünütei, Buqu-qatagi, \\nBuqatu-salji, and Bodonchar-mungqaq, sit down in a row.\\nShe gave each an arrow-shaft, saying: ‘Break it.’ They\\nbroke the arrow-shafts easily and threw them aside. Again,\\nshe took five arrow-shafts96 and bound them together. She\\ngave the five bound shafts to each in turn, saying: ‘Break\\nthem.’ Each tried, but none succeeded.\\n94 Badonchar (or Bodonchar), ‘the Fool’ was probably born in\\n970; see Hua-sai and Dugarjab 1984, p. 271.\\n95 Literally, ‘third cousins (on the father’s side)’. The brothers\\nrefer here to the practice of levirate, whereby a widow is\\npassed on to her husband’s younger brother or some other\\nmale relative so that her offspring remains within the\\ndescent group.\\n44 THE SECRET HISTORY OF THE MONGOLS'), Document(metadata={'source': '/content/the_secret_history_of_the_mongols_the_life_and_times_of_chinggis_khan1.pdf', 'page': 51, 'page_label': '45'}, page_content=\"[20] At this, Alan Qo’a said to her two sons Belgünütei\\nand Bügünütei: ‘You have doubted me. You have talked\\ntogether, saying: “Whose are these three sons that she has\\nborne? Whence did they come?” It is right for you to be\\nsuspicious.\\n[21] Every night, a shining yellow man came into the\\nyurt through the light of the smoke-hole and over the top of\\nthe door. He caressed my belly and his light sank into it. He\\n[slunk] sheepishly away like a yellow dog by the light of the\\nsun and moon.’\\nWhy do you talk unwisely?\\nEvidently it is a sign\\nthat they are sons of Heaven.\\nWhy do you compare them\\nto the black-haired commoners?97\\nWhen they become lords of all,\\nthe common people must understand.\\n[22] Again, Alan Qo’a spoke with her five sons: ‘All five of\\nyou were all born of this same belly. Alone, you can be\\nbroken easily by anyone. Together and of one mind, like\\nbound arrow-shafts, none can easily vanquish you.’ Not\\nlong afterwards, their mother Alan Qo’a passed away. \\n[23] After Alan Qo’a’s death, the five elder and younger\\nbrothers divided the livestock and property among\\nthemselves. Four of them—Belgününtei, Bügünütei, Buqu-\\nqatagi, and Buqatu-salji—each took a share. Only\\nBodonchar Mungqaq got no share, for they thought him\\nstupid and dull98 and therefore did not count him as their\\nkin.\\n96 Alan Qo’a's demonstration holds additional force in Mongol,\\nsince the word for an arrow-shaft (müsü) also means ‘a\\nstraight line’ and has moral overtones, like the English\\n‘straight’. Müsütei khün, for example, means ‘a man of\\nintegrity’. See Eldengtei et al. 1980, p. 231. An arrow is also\\na sign of unity and authority.\\n97 Commoners wore no hats to cover their black hair.\\nCHAPTER ONE 45\"), Document(metadata={'source': '/content/the_secret_history_of_the_mongols_the_life_and_times_of_chinggis_khan1.pdf', 'page': 52, 'page_label': '46'}, page_content='[24] No longer counted as a member of the family,\\nBodonchar thought to himself: ‘Why have I lived here until\\nnow?’ He rode away on an off-white, fleet-footed99 horse\\nwith a mangy tail and sores along its black-striped back. ‘If\\nI am to die,’ he said, ‘let me die. If I am to live, let me\\nlive.’100 And he gallopped off down the Onon River. On the\\nisland of Baljun, he built a grass yurt and lived there.\\n[25] While living in this way, he saw a young female\\nhawk catch and eat a black pheasant. Using the tail hairs\\nof his offwhite, mangy-tailed, sore-ridden horse with the\\nblack-striped back as a snare, he captured the hawk and\\nreared it.\\n[26] When he was without food, he would lie in wait and\\nkill wild beasts that wolves had cornered at the foot of the\\ncliffs and shoot and kill them. Together with the hawk, he\\nwould pick up and eat what the wolves had left behind. So\\nas the year passed, he nourished both his own gullet and\\nthe hawk’s.\\n[27] Spring arrived, bringing the ducks with it. He\\nstarved his hawk and flew it at them. He hung up the\\nducks and geese that the hawk caught until \\nbad odours rose\\nfrom every withered tree,\\ndank smells\\nfrom every dried-up tree.101\\n98 Mungqaq means ‘stupid and dull’. See also p. 42 n. 94.\\n99 Oroq means ‘off-white’; shingqula (shinggul) means ‘a dive or\\nswift penetration’. I translate these two words as ‘an off-\\nwhite, fleet-footed horse’. Section 55 has qurdun qubi,\\nmeaning ‘swift dun horse’. In both cases, shingqula and\\nqurdun qubi  are probably the names of the horses. For\\ndetails, see Choiji 1984, p. 33, n. 3.\\n100 Literally, ‘if die, its let die; if live, its let live’, i.e., ‘if (I) die, it\\n(is fate)’s (wish to) let (me) die’. Other translators (e.g., De\\nRachewiltz, vol. 4, p. 122) think the passage should read: ‘If\\nhe (the horse) dies, I shall die…’.\\n46 THE SECRET HISTORY OF THE MONGOLS'), Document(metadata={'source': '/content/the_secret_history_of_the_mongols_the_life_and_times_of_chinggis_khan1.pdf', 'page': 53, 'page_label': '47'}, page_content='[28] From behind the northern side102 of Mount Düyiren, a\\ngroup of travellers were moving camp along the Tünggelik\\nStream. After flying his hawk, Bodonchar Mungqaq was\\nwont to visit them, drinking kumisss103 with them in the\\nday and returning to his grass yurt at night to sleep.\\n[29] These people asked for Bodonchar’s hawk, but he\\nrefused to give it to them. They failed to ask Bodonchar\\nwhose son he was and what tribe he belonged to. He, too,\\ndid not ask them what people they were. Yet he kept\\ncoming and going.\\n[30] His elder brother Buqu-qatagi, thinking that his\\nyounger brother Bodonchar had gone downstream along\\nthe Onon River, came searching for him. He asked these\\npeople moving down the Tünggelik Stream whether they\\nhad seen such a man with such a horse.\\n[31] They answered: ‘A man and a horse similar to those\\nthat you describe are here, together with a hawk. Every\\nday he comes to us, drinks kumisss, and goes away. It is\\nnot known where he spends the night. When the wind\\nrises in the northwest, the feathers and down of the ducks\\nand geese that his hawk catches scatter like snow and\\nblow across here. He cannot be far away. At around this\\ntime, he comes. Wait here for him.’\\n101 The words translated here as ‘bad odours’ and ‘dank smells’\\n(qonqshi’ut and höngshi’üt) literally mean ‘the bad smells of\\nburning fat and wild onions’. See Eldengtei et al. 1980, pp.\\n177, 198.\\n102 Direction was naturally important to the Mongols. The word\\ntranslated here as ‘rear’ (gerü) also means ‘northern side’,\\ni.e., the cold, sunless side, and the forests that grow on the\\nnorthern side of a mountain. Similarly, öbör means the ‘front\\nside’ or the ‘southern side’. For gerü, see Eldengtei et al.\\n1980, p. 203.\\n103 Literally, ‘eating a sour thing’. Kumiss (fermented mare’s\\nmilk) and the associated verb esükchilejü (used here) derive\\nfrom esük (ösög) meaning ‘sour’. See Eldengtei et al. 1980, p.\\n104.\\nCHAPTER ONE 47'), Document(metadata={'source': '/content/the_secret_history_of_the_mongols_the_life_and_times_of_chinggis_khan1.pdf', 'page': 54, 'page_label': '48'}, page_content='[32] After some time, a man rode slowly up the Tünggelik.\\nIt turned out to be Bodonchar. Buqu-qatagi recognised him\\nimmediately. With Buqu-qatagi in the lead, the two trotted\\noff together up the Onon River.\\n[33] Bodonchar, trotting along behind his older brother,\\nsaid to him: ‘My brother, my brother, a body needs a head,\\na garment needs a collar.’ 104 His words had no effect on\\nBuqu-qatagi.\\n[34] He repeated the same words. Again, they had no\\neffect; his elder brother remained silent. After travelling\\nfurther still, Bodonchar said the same words yet again.\\n‘What were you saying?’ his older brother asked.\\n[35] Bodonchar replied: ‘Those people camped along the\\nTünggelik do not distinguish between the great [lord] and\\nthe small [folk], between good and bad, between head and\\nhooves.105 Everyone is equal. They are a simple people, Let\\nus plunder them.’\\n[36] His older brother said: ‘If what you say is true, we\\nwill consult with our brothers when we arrive at the yurt\\nand form a plan to plunder those people.’\\n[37] After reaching the yurt, the brothers talked the\\nmatter over and set out on horseback. Bodonchar himself\\nwas sent galloping ahead, as scout. \\n[38] On the way, Bodonchar captured a woman, four to\\nfive months pregnant. 106 He asked her who she was. She\\nreplied: ‘I am a Greater 107 Uriyangqai woman of the\\nJarchi’ut tribe.’\\n[39] The five brothers attacked the camp and seized\\nlivestock, property, and people to serve them. They then\\nsettled down.\\n104 ‘Collar’ (jaqa) was used as a metaphor for a leader. (Possibly\\nsomething larger, e.g., a cape, is meant here.) See Eldengtei\\net al. 1980, pp. 289–90. The gist of Bodonchar’s utterance,\\nexplained more fully in Section 35, is that without a leader,\\nany group of people would remain incapable of organising its\\nown defence. There is also the implication that some form of\\nhierarchy is needed, under Bodonchar and his brothers.\\n105 Lord and commoners are meant by ‘head and hooves’.\\n48 THE SECRET HISTORY OF THE MONGOLS'), Document(metadata={'source': '/content/the_secret_history_of_the_mongols_the_life_and_times_of_chinggis_khan1.pdf', 'page': 55, 'page_label': '49'}, page_content='[40] The woman with child went with Bodonchar and\\nbore a son who, as the son of a foreigner, was called\\nJajiradai. He became the founder of the Jadarans.\\nJadaraday’s108 son was called Tügü’üdei and Tügü’üdei’s\\nson was called Büri-bulchiru. Büri-bulchiru’s son was\\ncalled Qara-qada’an and Qara-qada’an’s son was called\\nJamuqa. Thus the Jadaran clan came into being.\\n[41] The same woman bore a son by Bodonchar. As she\\nwas a captured woman, they named the son Ba’aridai. He\\nbecame founder of the Ba’arin clan.109 Ba’aridai’s son was\\ncalled Chiduqul-bökö. Chiduqul-bökö’s wives were many,\\nand his sons abounded. Thus the Menen-Ba’arin clan\\ncame into being.\\n[42] From Belgünütei came the Belgünüt clan. From\\nBügünütei came the Bügünüt clan. From Buqu-qatagi\\ncame the Qatagin clan. From Buqutu-salji came the\\nSalji’ut clan. From Bodonchar came the Borjigins.\\n[43] To Bodonchar’s principal wife 110 was born a son\\nnamed Barim-shi’iraju-qabichi. Bodonchar also took a\\nconcubine as  part of the dowry of Qabichi-ba’atur’s\\nmother.111 A son named Jewüredei was born to this\\nconcubine. At first, Jewüredei took part in the Jügeli\\nceremony.112\\n[44] After Bodonchar’s death, a man of the Adangqa 113\\nUriyangqad[ai] was constantly present in Jewüredei’s yurt.\\nQabichi114 and others thought that this man might have\\nfathered Jewüredei, expelled [Jewüredei] from the Jügeli\\n106 Literally, ‘half-pregnant’ (dumda ke’elitei), i.e., four to five\\nmonths pregnant.\\n107 Adangqan should here be read as nengdegsen, i.e., ‘greater’.\\nSome say that the Adangqans were a sub-tribe of the\\nUriyangqais. In Chinggis Qahan’s day, the Mongols called\\ntheir nation Nengdegsen yeke ulus,  the Greater Great\\nNation. For details, see Choiji 1984, pp. 40–41, n. 3.\\n108 Jajiradai.\\n109 According to Professor Bürinbatu, writing in the Academic\\nJournal of the University of Inner Mongolia, no. 4 (1991), p.\\n32, the word baa’ar (or ba’ari) meant ‘mixture’.\\nCHAPTER ONE 49'), Document(metadata={'source': '/content/the_secret_history_of_the_mongols_the_life_and_times_of_chinggis_khan1.pdf', 'page': 56, 'page_label': '50'}, page_content='ceremony, and made him set up the Jewüreyit clan. 115 He\\nwas the founder of the Jewüreds.116 \\n[45] Qabichi-ba’atur’s son was called Menen-tudun.\\nMenentudun had seven sons—Qachi-külük, Qachin,\\n110 Other translators (e.g., De Rachewiltz) translate ablin eme as\\n‘the wife (that Bodonchar) chose himself’. Actually, it means\\nfirst wife or principal wife, the wife chosen for a boy in his\\nchildhood. Only the children of this wife were able to inherit\\ntheir father’s position and property. (See Eldengtei et al.\\n1980, p. 87).\\n111 There were three forms of dowry at the time: (i) Inje, the word\\nused here, included housemaids, livestock, and valuables\\nsuch as gold and silver. The bride had absolute rights over\\nthis dowry. (Eldengtei et al. 1980, p. 109.) (ii) Shitkül, which\\nappears in Section 96, describes items given by the bride’s\\nparents to the groom’s parents. The bride had no rights over\\nthese items. (Eldengtei et al. 1980, pp. 252–253.) (iii)\\nEmüsgel, which also appears in Section 96, consists of items\\nof clothing given by the bride to the groom’s parents when\\nshe meets them for the first time. (Eldengtei et al. 1980, p.\\n100.)\\n112 This ceremony consisted of hanging the complete skin, the\\nhead, and the hooves of an animal (ox, horse or sheep) on a\\npole as an offering to the ancestors. Jewüredei was the son\\nof a concubine, so he could not inherit from his father. (See\\nEldengtei et al. 1980, p. 305.)\\n113 Greater. See Section 38.\\n114 See Section43.\\n115 This passage is rather confusing. Jewüredei should not have\\ntaken part in the jügeli ceremony; the implication is that\\nBodonchar may have wished to make him a full son, but this\\nwish was rejected by Barimshi’iraju-qabachi after\\nBodonchar’s death. The passage translated here as ‘a man of\\nthe Adangqa Uriangqad[ai] was constantly present in the\\nyurt’ has been taken by other translators, on the basis of the\\nword je (‘perhaps’) at the end of the statement, to indicate\\nthat the man in question was Jewüredei’s father. However,\\nthere is nothing to support this assertion, especially since\\nJewüredei could be excluded from the clan on account of his\\nmother’s status. The passage may simply mean that\\nJewüredei was in the wrong for encouraging a man of a\\nforeign tribe to frequent a yurt where Bodonchar’s widow and\\nother women were living alone.\\n50 THE SECRET HISTORY OF THE MONGOLS'), Document(metadata={'source': '/content/the_secret_history_of_the_mongols_the_life_and_times_of_chinggis_khan1.pdf', 'page': 57, 'page_label': '51'}, page_content='Qachi’u, Qachula, Qachi’un, Qarandai, 117 and Nachin-\\nba’atur.118\\n[46] Qachi-külük’s son Qaidu was born to Mother\\nNomolun. Qachin’s son was called Noyagidai, for he was,\\nby temperament, lordly. From him stemmed the Noyakin\\nclan. The son of Qachi’u was called Barulatai, because he\\nhad a big body and ate crudely. From him the Barulas clan\\nwas descended. Qachula’s sons also ate crudely and was\\ntherefore called Yeke-Barula119 and Üchügen-Barula. 120\\nThey, too, formed Barulas clans—the Erdemtü-Barula, the\\nTödö’en-Barula, 121 and other Barulas. Qarandai’s sons\\nhad no leader to stir the millet porridge, 122 and therefore\\nformed the Buda’at clan. Qachi’un’s son, named\\nAdarkidai, was stubborn towards his elder and younger\\nbrothers and therefore formed the Adargin clan. The sons\\nof Nachin-ba’atur, called Uru’udai and Mangqutai, founded\\nthe Uru’ut and Mangqut clans. Nachin-ba’atur’s sons born\\nto his principal wife were  called Shiju’udai and Doqoladai.\\n(Shiju’ud and Doqolad later formed clans.)123\\n[47] Qaidu’s three sons were Bai-shingqor-doqshin,\\nCharaqailingqu, and Cha’ujin-örtegei. Bai-shingqor-\\ndoqshin’s son was Tumbinai-sechin. Charaqai-lingqu’s son\\nwas Senggüm-bilge. Senggüm-bilge’s son was Ambaqai.\\nThey founded the Tayichi’ut 124 clan. Charaqai-lingqu’s\\nsister-in-law became his wife and bore a son named\\n116 Jewuredei.\\n117 Qaraldai.\\n118 Menen-tudun means ‘great chief’, although it is here used as\\na proper name. It derives from the Mongolian mene, ‘large’ or\\n‘many’, and the Orkhon Turkish tudun, the title of a tribal\\ncommander. (See Eldengtei et al. 1980, p. 224.) Qachi’un is\\nalso used here as a proper name, but it derives from an\\nOrkhon Turkish word, qatigun, ‘strong’, ‘solid’, ‘hard’ (see\\nEldengtei et al. 1980, p. 176).\\n119 ‘Big’Barula.\\n120 ‘Small’ Barula.\\n121 Tiny’ Barula.\\n122 I.e., they had physical strength but little intelligence.\\nCHAPTER ONE 51'), Document(metadata={'source': '/content/the_secret_history_of_the_mongols_the_life_and_times_of_chinggis_khan1.pdf', 'page': 58, 'page_label': '52'}, page_content='Besütei, from whom the Besüt clan was descended. From\\nCha’ujin-örtegei’s sons came the Oronar, Qongqotan, Arula\\n[t], Sönit, Qabturqas, and Geniges clans.125\\n[48] Tumbinai-sechin’s two sons were Qabul Qahan 126\\nand Sem-sechüle. Sem-sechüle’s son was Bültechü-\\nba’atur. Qabul Qahan had seven sons. Ökin-barqaq was\\nhis eldest son. The  rest were Bartan-ba’atur, Qutu[q]tu-\\nmönggür, Qutula Qahan, Qulan, Qada’an, and Tödö’en-\\notchigin.\\n[49] Ökin-barqaq’s son was Qutuqtu-yürki.127 Qutuqtu-\\nyürki’s two sons were Seche-beki and Taichu. From them\\nwas descended the Yürki clan.\\n[50] Bartan-ba’atur had four sons—Menggetü-kiyan,\\nNekün-taishi, Yisügei-ba’atur, and Daritai-otchigin.\\n123 Noyamsiq means ‘lordly’; baruq means ‘voracious’, ‘crude’,\\n‘uncivilised’ (see Eldengtei et al. 1980, p. 145); buda’an\\nmeans ‘porridge’ (made of millet) (see Eldengtei et al. 1980,\\np. 158). These words are thought by many Mongols to\\nexplain the clan names contained in this section. However,\\nmost scholars dismiss these explanations as exercises in folk\\netymology. The sentence within brackets is restored from\\nIrinchin 1987, p. 28, n. 2.\\n124 The Tayichi’uds.\\n125 Shingqor (as in Bai-shingqor-doqshin) is a kind of falcon with\\nwhite claws and a red beak. (In Orkhon Turkish, it means\\n‘bird of prey’). Doqshin means ‘furious’, ‘violent’, ‘wild’. Hence\\nBai-shingqor-doqshin means ‘untamed falcon’ (see Eldengtei\\net al. 1980, p. 142). Lingqu (as in Charaqai-lingqu) was a\\nLiao Dynasty (916–1119) title (lingwen) given to the chief of a\\nsmall tribe (see Choiji 1984, p. 22). Senggüm was another\\nLiao Dynasty title (xiangwen) given to the commander of a\\nfrontier army, while bilge was an honorary title from the\\nOrkhon Turkish word for ‘wise’. Hence Senggüm-bilge means\\n‘the wise commander’ (see Choiji 1984, p. 52, n. 5; Eldengtei\\net al. 1980, p. 237). Beki (as in Seche beki) in Section 49 is\\nanother Orkhon Turkish title (used for both males and\\nfemales) for a highranking official (see Eldengtei et al. 1980,\\npp. 237–238).\\n126 There are three rivers in Xölön Buyir (or Buir)—the Qabul,\\nTalbur, and Ken (or Kan). Qabul was the founding father of\\nthe Mongol tribe. Qabul represented the twentieth generation\\n(and Chinggi the twenty-third).\\n52 THE SECRET HISTORY OF THE MONGOLS'), Document(metadata={'source': '/content/the_secret_history_of_the_mongols_the_life_and_times_of_chinggis_khan1.pdf', 'page': 59, 'page_label': '53'}, page_content='Qutuqtu-mönggür’s son was Büri-bökö. At the feast in the\\nforest of the Onon, it was he was who slashed Belgütei’s\\nshoulder.128\\n[51] Qutula Qahan’s three sons were Jochi, Girma’u, and\\nAltan. Qulan-ba’atur’s son was Yeke-cheren, lord of the\\ntwo  freedmen Badai and Kishilig.129 Neither Qada’an nor\\nTödö’en had children.\\n[52] Qabul Qahan ruled over all the Mongqols. Although\\nQabul Qahan had seven sons of his own, Senggüm-bilge’s\\nson Ambaqai Qahan130 ruled over all the Mongqols after\\nQabul Qahan, because Qabul Qahan so wished it.\\n[53] Ambaqai Qahan gave his daughter to the\\nAyiri’utBuiru’ut Tatar people, on the Urshi’un River 131\\nbetween Lake Buyur and Lake Kölen. While conducting her\\n127 Sorqatu-yürki. See Section 122.\\n128 Although Nekün (in Nekün-taishi) is here used as a proper\\nname, in Section 200 it means a house-maid or servant (see\\nEldengtei et al. 1980, p. 136). There are two explanations for\\nTaishi: that it derives (a) from the Chinese taizi, ‘prince’, or\\n‘crown prince’ (see Jagchid-Sechin 1979, p. 44, n. 3) and (b)\\nfrom the Chinese taishi, ‘great master’, an honorific title used\\nby northern nomadic peoples after the Liao Dynasty (see\\nDorontib 1979, p. 22, n. 22). The latter explanation is more\\nconvincing, given that the crown-prince system was not\\nestablished in Mongolia until after the enthronement of\\nChinggis Qahan. Taishi eventually became taiji, a general\\nterm in Mongol for male nobles. Yisügei derives from yisü(n),\\n‘nine’. Nine was considered to be an auspicious and lucky\\nnumber by Mongolians; there are references in the History to\\n‘nine horses’ (Section 267), ‘nine nights’ (Section 80), and so\\non (see Eldengtei et al. 1980, p. 308). Ba’atur means ‘hero’.\\nOtchigin (as in Daritai-otchigin) is a compound of the Orkhon\\nTurkish word ot, ‘fire’, and chigin, a high-ranking official; it\\ntherefore means ‘guardian of the hearth’. The Mongol otgon\\n(otqon) derives from otchigin and refers to the youngest son of\\na family who inherits his father’s possessions but not his\\ntitle, and who could not represent the family at ceremonies\\nat the ancestor’s graves (see Eldengtei et al. 1980, p. 117).\\nBüri (as in Büri-bökö) means ‘wolf’ in the Orkhon Turkish\\ndialect, while bökö means a wrestler or strong man. The\\nincident here referred to is described in Section 139 (see\\nEldengtei et al. 1980, p. 160).\\nCHAPTER ONE 53'), Document(metadata={'source': '/content/the_secret_history_of_the_mongols_the_life_and_times_of_chinggis_khan1.pdf', 'page': 60, 'page_label': '54'}, page_content='[to them], he was captured by the Jüyin 132. Tatarpepople\\nand taken to the Altan-qahan of the Kitads. Using a\\nBesütei man, Balaqachi, as messenger, Ambaqai Qahan\\nsent word to Qutula, the middle of Qabul Qahan’s seven\\nsons, and to Qada’an-taishi, one of his own ten sons,133 to\\nsay: ‘I became the Qahan of all, the Lord of the Nation. 134\\nWhile escorting my own daughter, I have been captured by\\nthe Tatar people. Do not follow my  example. Strive until\\nthe nails of your five fingers splinter and your ten fingers\\ndrop from your hands to avenge135 me.’ So saying, he\\ndispatched the messenger.\\n[54] Yisügei-ba’atur was flying hawks on the Onon River\\nwhen he met Yeke-chiledü of the Merkids, who was just\\nstarting out for home with an Olqunu’ut girl he had\\nmarried. Craning his neck, he saw a woman136 of unique\\ncolour and complexion. He galloped home to his yurt and\\nreturned leading his older brother Nekün-taishi and his\\nyounger brother Daritai-otchigin.\\n129 Kishilig, here used as a proper name, means ‘huge’,\\n‘broadminded’, ‘boastful’ in Orkhon Turkish (see Eldengtei et\\nal. 1980, p. 215). Darqan, translated here as ‘freedman’, is\\nan Orkhon Turkish term and a title given to a commoner\\nwho achieves outstanding military merit. The privileges that\\nwent with the title included exemption from official taxes and\\nimmunity from punishment for up to eight crimes (see\\nEldengtei et al. 1980, pp. 277–278). The deeds of Badai and\\nKishiliq are recounted in Sections 169 and 170.\\n130 Cleaves wrongly asserts that the Mongols ignored Ambaqai\\nQahan in their dynastic chart.\\n131 The River Urshi’un flows from Lake Buyur (Buir) to Lake\\nKölen (Khölön). Today, it is called the Urshun or Orshun (see\\nEldengtei et al. 1980, p. 122). Kölen means ‘large lake’ in\\nOrkhon Turkish (see Eldengtei et al. 1980, pp. 217–218).\\n132 The Jüyin was a frontier army of the Jin Dynasty (1115–\\n1234); it consisted of Kitans and Tatars in the Khölön-Buir\\narea (see Eldengtei et al. 1980, p. 305).\\n133 The message was sent through an intermediary either\\nbecause it would have been politically inexpedient for the\\nmessenger to  cross Qutula’s territory without explaining his\\npurpose or simply because Qada’an-taishi was too far away.\\n54 THE SECRET HISTORY OF THE MONGOLS'), Document(metadata={'source': '/content/the_secret_history_of_the_mongols_the_life_and_times_of_chinggis_khan1.pdf', 'page': 61, 'page_label': '55'}, page_content='[55] Their arrival frightened Chiledü, who beat his swift\\ndun horse on the thigh and fled across a hill pursued by\\nthe three men. Chiledü crossed the spur of the hill to his\\ncart. Lady137 Hö’elün, who was waiting in the cart, said:\\n‘Did you see the look on the faces of those men? They wish\\nto kill you. As long as you remain alive, there will be girls\\non the front seats of carts and women in the black-covered\\nwooden carts.  If you live, you will perhaps find a girl or a\\nwoman for yourself. If she has another name, you can call\\nher Hö’elün. Save yourself. While you live, smell my\\nfragrance.’138 With these words, she removed her shirt. He\\nleaned across his horse to take it. As he did so, the three\\nmen rounded the spur of the hill towards him. He beat the\\nthigh of his swift dun horse and fled upstream along the\\nOnon River.\\n134 Although ulus-un ejen is correctly translated here as ‘lord of\\nthe nation’, ‘lord of the people’ would perhaps be a more\\nrealistic description, given the lack of overall political\\ncohesion. This is the first of several occurrences in the\\nHistory of the word ulus (‘nation’).\\n135 Hachi, translated here as ‘vengeance’, has (like nökör) two\\napparently contradictory meanings. On the one hand, it\\nmeans ‘favour’, ‘kindness’, ‘grace’; on the other hand, it\\nmeans ‘foe’, ‘hatred’, ‘vengeance’. A more neutral translation\\nmight be ‘debt’ or ‘a thing that is owed’ (see Eldengtei et al.\\n1980, p. 191).\\n136 Usually, the History distinguishes between unmarried girls\\n(öki) and married women (qatun in respectful usage, the wife\\nof a qan). Here, the two words are compounded as öki qatu,\\nindicating either that Yisügei-ba’atur was uncertain about\\nthe woman’s status (see Dorontib 1979, p. 26, n. 4) or that\\nshe was newly wed.\\n137 ‘Lady’ is the usual translation for üjin (although Cleaves\\n1982 leaves it untranslated). The title is often said to derive\\nfrom the Chinese furen, ‘lady’, pronounced üjen (üjin)  in\\nMongol, which has no ‘f’. (See Jagchid-Sechin 1979, p. 52, n.\\n1.) However, in the thirteenth century, the Mongols created a\\nnumber of exclusive honorific titles. For example, Hö’elün,\\nBörte (see Section 66), and Huja’ur Üjin (see Section 177)\\nwere referred to as üjin, meaning ‘lady’ or ‘queen’. Temüjin,\\nafter whom Chinggis was named, bore the title üge, meaning\\n‘senior’ or ‘sir’ (for üge, see Section 59, p. 31. See Ü).\\nCHAPTER ONE 55'), Document(metadata={'source': '/content/the_secret_history_of_the_mongols_the_life_and_times_of_chinggis_khan1.pdf', 'page': 62, 'page_label': '56'}, page_content='[56] The three men pursued him across seven 139 hills\\nbefore returning. Yisügei-ba’atur took hold of the tether140\\nof Lady Hö’elün[’s cart]. His older brother Nekün-taishi led;\\nhis younger brother Daritai-otchigin walked beside the\\ncartshaft.141 As they proceeded, Lady Hö’elün said: ‘My\\nolder brother142 Chiledü is one\\nwhose hair has never blown\\nin the wind,\\nwhose belly has never hungered\\nin the wild land.\\nWhat will now become of him?’ Her two plaits143 were flung\\nnow across her back, now across her breast, as she threw\\nherself backwards and forwards. ‘What is happening to\\nme?’ she cried. The Onon River churned and the forest\\nechoed to the sound of her loud crying. As he walked\\nalongside her, Daritai-otchigin said:\\n‘The one you embraced\\nhas crossed many ridges.\\nThe one you cry for\\nhas crossed much water.\\n138 ‘Smell’ means ‘kiss’ in ‘smell my fragrance’. Hö’elün means\\nthat she wants him to remember her.\\n139 Just as nine was a lucky number for the Mongols, seven was\\nunlucky.\\n140 Strictly speaking, delbege is not so much a tether as a rope\\nattached to the bridle of a cart-pulling animal, used to whip\\nthe animal on (see Dorontib 1980, p. 17, n. 13, and Eldengtei\\nand Ardajab 1986, p. 99, n. 2).\\n141 Kiligü [Kilügü], which used to mean a cart-shaft, now means\\na crosswise beam on a cart. See Eldengtei and Ardajab 1986,\\npp. 99–100; Eldengtei et al. 1991, p. 449; and Nei Menggu\\ndaxue Menggu yuwen yanjiushi 1976–1977, p. 166.\\n142 The text says ‘older brother’ (aqa), but this is simply a\\nrespectful reference by Hö’elün to her husband.\\n56 THE SECRET HISTORY OF THE MONGOLS'), Document(metadata={'source': '/content/the_secret_history_of_the_mongols_the_life_and_times_of_chinggis_khan1.pdf', 'page': 63, 'page_label': '57'}, page_content='However much you cry,\\nfrom such a distance, he will not see you.\\nHowever much you search for him,\\nyou will not find his road.\\nBe still,’ he told her. Then Yisügei brought Lady Hö’elün\\ninto his yurt. This is how Yisügei took Lady Hö’elün.\\n[57] As Ambaqai Qahan had named both Qada’an and\\nQutula, all the Mongqols and the Tayichi’uts gathered\\ntogether in the Qorqonaq forest by the Onon and made\\nQutala their qahan. The Mongqols celebrated by dancing\\nand feasting. Qutula was raised up as Qahan and they\\ndanced around the Many-Leaved Tree of Qorqonaq144 until\\nthey stood in furrows up to their ribs and made wounds up\\nto their knees.\\n[58] After becoming qahan, Qutula rode out with\\nQada’antaishi against the Tatars. Thirteen times they\\njoined battle  with the Tatars Kötön-baraqa and Jali-buqa\\nbut failed to avenge Ambaqai Qahan.\\n[59] Then Yisügei-ba’atur plundered Temüjin-üge, 145\\nQoribuga, and other Tatars. On his return, Lady Hö’elün\\nwas pregnant. They were at Deli’ün-boldaq on the Onon\\nwhen Chinggis Qahan was born. At the time of his birth,\\nhe held in his right hand a clot of blood as big as a\\nknucklebone. Born at the time of the capture of the Tatar\\nTemüjin-üge, they thought to name him Temüjin.146\\n143 Most translators take this to be a reference to Childeü’s\\nplaits (shibülger), but actually it refers to Lady Hö’elün’s\\nplaits. At the time of the History, girls in Mongolia never cut\\ntheir hair before marriage but plaited it instead into ten or\\nmore braids. On marrying, they combined these plaits into\\ntwo large braids hanging behind their ears.\\n144 A saqlaqar is a willow-like tree with many leaves and\\nhanging branches (see Eldengtei et al. 1980, p. 233). Some\\ntranslators (e.g., Cleaves and De Rachewiltz) assume that the\\npassage refers to some particular tree, but it is not clear if\\nthe tree is special for some reason now forgotten or simply\\nbecause of its association with Chinggis Qahan. (There are\\nfurther references to the tree in Sections 117 and 206.)\\nCHAPTER ONE 57'), Document(metadata={'source': '/content/the_secret_history_of_the_mongols_the_life_and_times_of_chinggis_khan1.pdf', 'page': 64, 'page_label': '58'}, page_content='[60] Yisügei-ba’atur had four sons by Lady Hö’elün:\\nTemüjin, Qasar, Qachi’un, and Temüge. A girl was also\\nborn and named Temülün. When Temüjin was nine,\\nJochiqasar was seven, Qachi’un-elchi147 was five, Temüge-\\notchigin was three, and Temülün was in the cradle.\\n[61] When Temüjin was nine, Yisügei-ba’atur decided to\\nfind a wife for him among the Olqunu’ut relatives of his  \\nmother Hö’elün, his mother’s brothers. They set out\\ntogether. While travelling, they met Dei-sechen148 of the\\nOnggirats149 between Chekcher and Chiqurgu.\\n[62] Dei-sechen said: ‘Yisügei-quda,150 who will you see?’\\nYisügei-ba’atur replied: ‘I am going to the Olqunu’ut people\\nwith my son to ask his mother’s brothers for a wife.’\\nDeisechen said: ‘This boy of yours has fire in his eyes and\\nlight in his face.151\\n[63] Yisügei-quda, last night I had a dream. A white\\ngerfalcon, holding both the sun and the moon, flew down\\nand perched on my hand. I have not talked to the people\\nabout my dream. When we gazed in the past at the sun\\nand moon, they were merely seen. Now this gerfalcon lights\\nwith them on my hand. The white one descends onto my\\n145 The suffix -üge, as in Temüjin-üge, today exists only in the\\nDawr dialect of Mongol. Specifically, it means ‘mother’s older\\nbrother’. More generally, however, it is used of anyone who\\nseems older than one’s parents or is more than fifty years\\nold, in the sense of ‘elder’ or ‘senior’. See Eldengtei et al.\\n1980, p. 130. Temüjin was born on the sixteenth day of the\\nfirst month of the summer (the fourth lunar month), on the\\nred circle day. For details, see Murakami 1970–1976, vol. 1,\\npp. 80–81. For the red circle day, see p. 70, n. 177 and p.\\n169, n. 435.\\n146 Chinggis Qahan’s name derives from the Orkhon Turkish\\nword temür, ‘iron’, with the suffix -jin, indicating agency; it\\ntherefore means ‘blacksmith’. See Eldengtei et al. 1980, pp.\\n257–258.\\n147 Qachi’un is a proper name; the suffix -elchi was an official\\ntitle in the Orkhon Turkish dialect meaning an ambassador\\nof high rank or a prophet. It appears in this sense in Section\\n53 of the History (where it is translated as ‘messenger’). See\\nEldengtei et al. 1980, p. 102.\\n58 THE SECRET HISTORY OF THE MONGOLS'), Document(metadata={'source': '/content/the_secret_history_of_the_mongols_the_life_and_times_of_chinggis_khan1.pdf', 'page': 65, 'page_label': '59'}, page_content='hand. What good thing did this portend? Yisügei-quda, my\\ndream foreshadowed your arrival, together with your son. I\\ndreamt a good dream that portended your arrival among\\nthe Kiyat people.\\n[64] Since days of old, we Onggirat people with\\nthe colour of our sisters’ children,\\nthe complexion of our daughters,\\nhave never disputed with other nations over land and\\npeople.\\nWe make our fair-faced daughters\\nsit in the two-wheeled cart,\\nharnessed to a black camel,\\nfor you who become qahans,\\nand send them off at a trot.\\nOn the qatan throne\\nwe make them sit together with you.\\nWe have never disputed with other nations over land and\\npeople.\\n148 While the suffix -üge (p. 56, n. 145) meant ‘mother’s older\\nbrother’, the prefix dei-, derived from an Orkhon Turkish\\nword, meant ‘mother’s younger brother’. Dei- was, by\\nextension, used of elders more generally (in the sense of ‘sir’\\nor ‘senior’). Sechen, meaning ‘wise, enlightened one’, was also\\nused as an official title. Dei-sechen therefore meant ‘wise\\nuncle’. At a later date, the name came to mean a queen’s\\nyounger brother. See Eldengtei et al. 1980, p. 280.\\n149 The Onggirats, a tribe frequently mentioned in the History,\\nwere located in the Khölön Buir area. They struck frequent\\nmarriage alliances with the Borjigins, Chinggis Qahan’s tribe\\n(see Eldengtei et al. 1980, p. 114).\\n150 Quda was used to address affines. It derived from qudaldaqu,\\n‘to sell’, showing the contractual nature of such marriages.\\nSee Eldengtei et al. 1980, p. 186.\\n151 I.e., he looks intelligent.\\nCHAPTER ONE 59'), Document(metadata={'source': '/content/the_secret_history_of_the_mongols_the_life_and_times_of_chinggis_khan1.pdf', 'page': 66, 'page_label': '60'}, page_content='We have reared our fair-skinned daughters,\\nsat them on the cart’s front seat,\\nharnessed to a dark-grey camel,\\nand sent them forth.\\non the high throne,\\nwe make them sit at your [majesty’s] side.\\nFrom of old the Onggirat people have been\\nshielded152 by the qatun,\\npleaded for by daughters,\\nbecause of the colour of our sisters’ children,\\nbecause of the fair complexion of our daughters.\\n[65] Our sons are assessed by their camping places,  our\\ndaughters are regarded for their fair complexion.\\nL e t  u s  g o  t o  m y  y u r t ,  Y i s ü g e i - q u d a .  M y  d a u g h t e r  i s\\nyoung, regard her, quda.’ Dei-sechen took him to his yurt\\nand made him dismount.\\n[66] When Yisügei saw Dei-sechen’s daughter, there was\\nlight in her face and fire in her eyes. After seeing the girl, he\\nkept her in his thoughts. She was ten years of age, a year\\nolder than Temüjin; her name was Börte. Yisügei stayed\\novernight and asked for the girl the next day. Dei-sechen\\nreplied: ‘If, after numerous requests, I give her, I will be\\nrespected. If after only a few requests, I will be held cheap.\\nIt is not the fate of a girl to grow old in the doorway behind\\nwhich she was born. I will give you my daughter. Leave\\nyour son here as my son-in-law when you go.’ They agreed\\n152 Although qalqatan is here translated as ‘shielded’, it is\\nactually a modification of the noun qalqa, a shield about 45\\ninches long and 30 inches wide, made of leather or willow\\nbranches. See Eldengtei et al. 1980, p. 169. Dei-sechen\\ndescribes the political expediency of marriage alliances in\\nwhich the daughters of weaker tribes act as ‘shields’ against\\nthe more powerful tribes into which they marry. Some\\nscholars believe that qalqatan and öchilten (‘a pleader’) were\\nhigh-ranking titles.\\n60 THE SECRET HISTORY OF THE MONGOLS'), Document(metadata={'source': '/content/the_secret_history_of_the_mongols_the_life_and_times_of_chinggis_khan1.pdf', 'page': 67, 'page_label': '61'}, page_content='to the marriage, and Yisügei-ba’atur said: ‘I leave my son\\nas a son-in-law, but he is afraid of dogs. Quda, do not\\nallow my boy to be frightened by dogs.’153 After saying\\nthese words, he gave his spare horse as a gift and, leaving\\nTemüjin behind as a son-in-law, departed.\\n[67] On the way, at Chekcher in the Shira-ke’er, 154\\nYisügei-ba’atur came across some feasting Tatars. Being\\nthirsty, he dismounted [to join] their feast. The Tatars\\nrecognised him. ‘Yisügei-Kiyan has come,’ they said,\\nrecalling how he had once caused them insult by robbing\\nthem. Secretly wishing to harm him, they mixed poison\\n[into his food] and gave it to him. On the way, he felt sick.\\nOn arriving at his yurt after three days’ travel, his\\ncondition became worse. 157  \\n[68] Yisügei-ba’atur said ‘I feel sick inside. Who is at\\nhand?’155 ‘I am nearby,’ said Mönglik,156 the son of the old\\nQongqotat man, Charaqa. Yisügei-ba’atur called Mönglik\\nin. ‘Mönglik, my child, I have small children. I left my own\\nTemüjin as a son-in-law. On my way back, some Tatars\\nsecretly harmed me. I feel sick inside. I charge you to take\\ncare of my small sons, who are your younger brothers, and\\nof your widowed sister-in-law. Bring back my son Temüjin\\nquickly, Mönglik my child.’ With that, he passed away. \\n153 The reference to dogs seems curious; there is no hint\\nelsewhere in the History of Temüjin fearing them. The\\nreference is probably to Yisügei-ba’atur’s enemies (in which\\ncase, it was a well-founded fear on Temüjin’s part—see\\nSection 67) and a warning to Dei-sechen to watch carefully\\nover Temüjin.\\n154 Yellow Steppe.\\n155 This conversation happened in the year 1170.\\n156 Mönglik meant ‘mole’ (naevus) in Orkhon Turkish. See\\nEldengtei et al. 1980, pp. 224–225. Yisügei-ba’atur refers to\\nMönglik later in this section as chaqa, ‘child’ or ‘infant’ (see\\nEldengtei et al. 1980, p. 312).\\n157 In 1270.\\nCHAPTER ONE 61'), Document(metadata={'source': '/content/the_secret_history_of_the_mongols_the_life_and_times_of_chinggis_khan1.pdf', 'page': 68, 'page_label': '62'}, page_content='62'), Document(metadata={'source': '/content/the_secret_history_of_the_mongols_the_life_and_times_of_chinggis_khan1.pdf', 'page': 69, 'page_label': '63'}, page_content='CHAPTER TWO\\n[69] Rather than disobey the words of Yisügei-ba’atur,\\nMönglik went to Dei-sechen and said, ‘My master Yisügei\\nmisses Temüjin greatly. His heart aches. I have come to\\ntake Temüjin away.’ Dei-sechen said, ‘If quda is missing\\nhis son, then let him go. After he has seen him, let the son\\nswiftly return.’ Father Mönglik took Temüjin back.\\n[70] That spring, the two qatut 158 of Ambaqai Qahan,\\nÖrbei and Soqatai, visited [the boundary of] the ancestors’\\nland. Lady Hö’elün arrived late, for they had failed to wait\\nfor her. To Örbei and Soqatai, Lady Hö’elün said, ‘Is it\\nbecause Yisügei-ba’atur is dead and my children are not\\nyet grown up that you think to keep from me a share of the\\nancestors’ offerings, the bile’ür offerings and the sarqud\\nofferings? Before my very eyes, you eat [without inviting me\\nto join you]; without waking me, you intend to leave.’159 \\n[71] On hearing these words, the two qatut Örbei and\\nSoqatai said,\\n‘Do you have a special right to eat\\n[when we] summon you?\\nYou have the right to eat\\nwhen you come by chance [on food].\\nDo you have the right to eat\\n[when we] invite you?\\nYou have the right to eat\\n158 Ladies.\\n')]\n"
          ]
        }
      ],
      "source": [
        "import bs4\n",
        "from langchain import hub\n",
        "from langchain_community.document_loaders import PyPDFLoader\n",
        "from langchain_core.documents import Document\n",
        "from langchain_text_splitters import RecursiveCharacterTextSplitter\n",
        "from langgraph.graph import START, StateGraph\n",
        "from typing_extensions import List, TypedDict\n",
        "\n",
        "loader=PyPDFLoader('pdf_name.pdf') #Enter PDF\n",
        "docs = loader.load()\n",
        "print(docs)\n",
        "text_splitter = RecursiveCharacterTextSplitter(chunk_size=1000, chunk_overlap=200)\n",
        "all_splits = text_splitter.split_documents(docs)\n",
        "\n",
        "# Index chunks\n",
        "_ = vector_store.add_documents(documents=all_splits)\n",
        "\n",
        "# Define prompt for question-answering\n",
        "prompt = hub.pull(\"rlm/rag-prompt\")\n",
        "\n",
        "\n",
        "# Define state for application\n",
        "class State(TypedDict):\n",
        "    question: str\n",
        "    context: List[Document]\n",
        "    answer: str\n",
        "\n",
        "\n",
        "# Define application steps\n",
        "def retrieve(state: State):\n",
        "    retrieved_docs = vector_store.similarity_search(state[\"question\"])\n",
        "    return {\"context\": retrieved_docs}\n",
        "\n",
        "\n",
        "def generate(state: State):\n",
        "    docs_content = \"\\n\\n\".join(doc.page_content for doc in state[\"context\"])\n",
        "    messages = prompt.invoke({\"question\": state[\"question\"], \"context\": docs_content})\n",
        "    response = llm.invoke(messages)\n",
        "    return {\"answer\": response.content}\n",
        "\n",
        "\n",
        "# Compile application and test\n",
        "graph_builder = StateGraph(State).add_sequence([retrieve, generate])\n",
        "graph_builder.add_edge(START, \"retrieve\")\n",
        "graph = graph_builder.compile()"
      ]
    },
    {
      "cell_type": "code",
      "execution_count": 38,
      "metadata": {
        "colab": {
          "base_uri": "https://localhost:8080/"
        },
        "id": "29giOmlEZIA_",
        "outputId": "124ca830-12e5-4a19-f0f7-2172ec9affb3"
      },
      "outputs": [
        {
          "name": "stdout",
          "output_type": "stream",
          "text": [
            "I don't know. The provided context discusses two different topics: a historical narrative involving Chinggis Qahan and a description of a scientific discovery agent called ChemCrow, but it does not give a clear storyline for a single narrative.\n"
          ]
        }
      ],
      "source": [
        "response = graph.invoke({\"question\": \"What is the story about?\"})\n",
        "print(response[\"answer\"])"
      ]
    }
  ],
  "metadata": {
    "colab": {
      "provenance": []
    },
    "kernelspec": {
      "display_name": "Python 3",
      "name": "python3"
    },
    "language_info": {
      "name": "python"
    },
    "widgets": {
      "application/vnd.jupyter.widget-state+json": {
        "0d9c0c5e0ac641969e09fd9ef4f9ba16": {
          "model_module": "@jupyter-widgets/base",
          "model_module_version": "1.2.0",
          "model_name": "LayoutModel",
          "state": {
            "_model_module": "@jupyter-widgets/base",
            "_model_module_version": "1.2.0",
            "_model_name": "LayoutModel",
            "_view_count": null,
            "_view_module": "@jupyter-widgets/base",
            "_view_module_version": "1.2.0",
            "_view_name": "LayoutView",
            "align_content": null,
            "align_items": null,
            "align_self": null,
            "border": null,
            "bottom": null,
            "display": null,
            "flex": null,
            "flex_flow": null,
            "grid_area": null,
            "grid_auto_columns": null,
            "grid_auto_flow": null,
            "grid_auto_rows": null,
            "grid_column": null,
            "grid_gap": null,
            "grid_row": null,
            "grid_template_areas": null,
            "grid_template_columns": null,
            "grid_template_rows": null,
            "height": null,
            "justify_content": null,
            "justify_items": null,
            "left": null,
            "margin": null,
            "max_height": null,
            "max_width": null,
            "min_height": null,
            "min_width": null,
            "object_fit": null,
            "object_position": null,
            "order": null,
            "overflow": null,
            "overflow_x": null,
            "overflow_y": null,
            "padding": null,
            "right": null,
            "top": null,
            "visibility": null,
            "width": null
          }
        },
        "1c93cc908b354cd58f1013695f97ba18": {
          "model_module": "@jupyter-widgets/controls",
          "model_module_version": "1.5.0",
          "model_name": "ButtonModel",
          "state": {
            "_dom_classes": [],
            "_model_module": "@jupyter-widgets/controls",
            "_model_module_version": "1.5.0",
            "_model_name": "ButtonModel",
            "_view_count": null,
            "_view_module": "@jupyter-widgets/controls",
            "_view_module_version": "1.5.0",
            "_view_name": "ButtonView",
            "button_style": "",
            "description": "Login",
            "disabled": false,
            "icon": "",
            "layout": "IPY_MODEL_cff196fa66ef48edbaf2caced4701740",
            "style": "IPY_MODEL_2d70319c4b26448e92ef804a122247a6",
            "tooltip": ""
          }
        },
        "2d70319c4b26448e92ef804a122247a6": {
          "model_module": "@jupyter-widgets/controls",
          "model_module_version": "1.5.0",
          "model_name": "ButtonStyleModel",
          "state": {
            "_model_module": "@jupyter-widgets/controls",
            "_model_module_version": "1.5.0",
            "_model_name": "ButtonStyleModel",
            "_view_count": null,
            "_view_module": "@jupyter-widgets/base",
            "_view_module_version": "1.2.0",
            "_view_name": "StyleView",
            "button_color": null,
            "font_weight": ""
          }
        },
        "331b0b7f8fae404cbab299c4845d03b0": {
          "model_module": "@jupyter-widgets/base",
          "model_module_version": "1.2.0",
          "model_name": "LayoutModel",
          "state": {
            "_model_module": "@jupyter-widgets/base",
            "_model_module_version": "1.2.0",
            "_model_name": "LayoutModel",
            "_view_count": null,
            "_view_module": "@jupyter-widgets/base",
            "_view_module_version": "1.2.0",
            "_view_name": "LayoutView",
            "align_content": null,
            "align_items": "center",
            "align_self": null,
            "border": null,
            "bottom": null,
            "display": "flex",
            "flex": null,
            "flex_flow": "column",
            "grid_area": null,
            "grid_auto_columns": null,
            "grid_auto_flow": null,
            "grid_auto_rows": null,
            "grid_column": null,
            "grid_gap": null,
            "grid_row": null,
            "grid_template_areas": null,
            "grid_template_columns": null,
            "grid_template_rows": null,
            "height": null,
            "justify_content": null,
            "justify_items": null,
            "left": null,
            "margin": null,
            "max_height": null,
            "max_width": null,
            "min_height": null,
            "min_width": null,
            "object_fit": null,
            "object_position": null,
            "order": null,
            "overflow": null,
            "overflow_x": null,
            "overflow_y": null,
            "padding": null,
            "right": null,
            "top": null,
            "visibility": null,
            "width": "50%"
          }
        },
        "53cfdc630a424b5ba4348a4bf8553be3": {
          "model_module": "@jupyter-widgets/controls",
          "model_module_version": "1.5.0",
          "model_name": "VBoxModel",
          "state": {
            "_dom_classes": [],
            "_model_module": "@jupyter-widgets/controls",
            "_model_module_version": "1.5.0",
            "_model_name": "VBoxModel",
            "_view_count": null,
            "_view_module": "@jupyter-widgets/controls",
            "_view_module_version": "1.5.0",
            "_view_name": "VBoxView",
            "box_style": "",
            "children": [],
            "layout": "IPY_MODEL_331b0b7f8fae404cbab299c4845d03b0"
          }
        },
        "553b941bbcdd489b83da922379e1cccb": {
          "model_module": "@jupyter-widgets/controls",
          "model_module_version": "1.5.0",
          "model_name": "DescriptionStyleModel",
          "state": {
            "_model_module": "@jupyter-widgets/controls",
            "_model_module_version": "1.5.0",
            "_model_name": "DescriptionStyleModel",
            "_view_count": null,
            "_view_module": "@jupyter-widgets/base",
            "_view_module_version": "1.2.0",
            "_view_name": "StyleView",
            "description_width": ""
          }
        },
        "59f902c0f00f45fe9ce3b045e30af32a": {
          "model_module": "@jupyter-widgets/controls",
          "model_module_version": "1.5.0",
          "model_name": "DescriptionStyleModel",
          "state": {
            "_model_module": "@jupyter-widgets/controls",
            "_model_module_version": "1.5.0",
            "_model_name": "DescriptionStyleModel",
            "_view_count": null,
            "_view_module": "@jupyter-widgets/base",
            "_view_module_version": "1.2.0",
            "_view_name": "StyleView",
            "description_width": ""
          }
        },
        "6b9c3d601e944b9aac4fcc5e6ff12dd5": {
          "model_module": "@jupyter-widgets/controls",
          "model_module_version": "1.5.0",
          "model_name": "DescriptionStyleModel",
          "state": {
            "_model_module": "@jupyter-widgets/controls",
            "_model_module_version": "1.5.0",
            "_model_name": "DescriptionStyleModel",
            "_view_count": null,
            "_view_module": "@jupyter-widgets/base",
            "_view_module_version": "1.2.0",
            "_view_name": "StyleView",
            "description_width": ""
          }
        },
        "83102b2e032d45e492b5647bc5bd3462": {
          "model_module": "@jupyter-widgets/base",
          "model_module_version": "1.2.0",
          "model_name": "LayoutModel",
          "state": {
            "_model_module": "@jupyter-widgets/base",
            "_model_module_version": "1.2.0",
            "_model_name": "LayoutModel",
            "_view_count": null,
            "_view_module": "@jupyter-widgets/base",
            "_view_module_version": "1.2.0",
            "_view_name": "LayoutView",
            "align_content": null,
            "align_items": null,
            "align_self": null,
            "border": null,
            "bottom": null,
            "display": null,
            "flex": null,
            "flex_flow": null,
            "grid_area": null,
            "grid_auto_columns": null,
            "grid_auto_flow": null,
            "grid_auto_rows": null,
            "grid_column": null,
            "grid_gap": null,
            "grid_row": null,
            "grid_template_areas": null,
            "grid_template_columns": null,
            "grid_template_rows": null,
            "height": null,
            "justify_content": null,
            "justify_items": null,
            "left": null,
            "margin": null,
            "max_height": null,
            "max_width": null,
            "min_height": null,
            "min_width": null,
            "object_fit": null,
            "object_position": null,
            "order": null,
            "overflow": null,
            "overflow_x": null,
            "overflow_y": null,
            "padding": null,
            "right": null,
            "top": null,
            "visibility": null,
            "width": null
          }
        },
        "8d36e5efc2a14620903a3b7ae7fc1634": {
          "model_module": "@jupyter-widgets/controls",
          "model_module_version": "1.5.0",
          "model_name": "HTMLModel",
          "state": {
            "_dom_classes": [],
            "_model_module": "@jupyter-widgets/controls",
            "_model_module_version": "1.5.0",
            "_model_name": "HTMLModel",
            "_view_count": null,
            "_view_module": "@jupyter-widgets/controls",
            "_view_module_version": "1.5.0",
            "_view_name": "HTMLView",
            "description": "",
            "description_tooltip": null,
            "layout": "IPY_MODEL_e5711797562f4cd682c4c900036faa51",
            "placeholder": "​",
            "style": "IPY_MODEL_553b941bbcdd489b83da922379e1cccb",
            "value": "<center> <img\nsrc=https://huggingface.co/front/assets/huggingface_logo-noborder.svg\nalt='Hugging Face'> <br> Copy a token from <a\nhref=\"https://huggingface.co/settings/tokens\" target=\"_blank\">your Hugging Face\ntokens page</a> and paste it below. <br> Immediately click login after copying\nyour token or it might be stored in plain text in this notebook file. </center>"
          }
        },
        "a7700f7f7c5f4062a03a9830580cf670": {
          "model_module": "@jupyter-widgets/controls",
          "model_module_version": "1.5.0",
          "model_name": "DescriptionStyleModel",
          "state": {
            "_model_module": "@jupyter-widgets/controls",
            "_model_module_version": "1.5.0",
            "_model_name": "DescriptionStyleModel",
            "_view_count": null,
            "_view_module": "@jupyter-widgets/base",
            "_view_module_version": "1.2.0",
            "_view_name": "StyleView",
            "description_width": ""
          }
        },
        "b3118b1dfd9f4f7a903524586893303f": {
          "model_module": "@jupyter-widgets/controls",
          "model_module_version": "1.5.0",
          "model_name": "LabelModel",
          "state": {
            "_dom_classes": [],
            "_model_module": "@jupyter-widgets/controls",
            "_model_module_version": "1.5.0",
            "_model_name": "LabelModel",
            "_view_count": null,
            "_view_module": "@jupyter-widgets/controls",
            "_view_module_version": "1.5.0",
            "_view_name": "LabelView",
            "description": "",
            "description_tooltip": null,
            "layout": "IPY_MODEL_83102b2e032d45e492b5647bc5bd3462",
            "placeholder": "​",
            "style": "IPY_MODEL_59f902c0f00f45fe9ce3b045e30af32a",
            "value": "Connecting..."
          }
        },
        "c3328593378642538b83f294230c389e": {
          "model_module": "@jupyter-widgets/controls",
          "model_module_version": "1.5.0",
          "model_name": "HTMLModel",
          "state": {
            "_dom_classes": [],
            "_model_module": "@jupyter-widgets/controls",
            "_model_module_version": "1.5.0",
            "_model_name": "HTMLModel",
            "_view_count": null,
            "_view_module": "@jupyter-widgets/controls",
            "_view_module_version": "1.5.0",
            "_view_name": "HTMLView",
            "description": "",
            "description_tooltip": null,
            "layout": "IPY_MODEL_0d9c0c5e0ac641969e09fd9ef4f9ba16",
            "placeholder": "​",
            "style": "IPY_MODEL_a7700f7f7c5f4062a03a9830580cf670",
            "value": "\n<b>Pro Tip:</b> If you don't already have one, you can create a dedicated\n'notebooks' token with 'write' access, that you can then easily reuse for all\nnotebooks. </center>"
          }
        },
        "ca60f679d3374fe481d3afdcb0c7c625": {
          "model_module": "@jupyter-widgets/controls",
          "model_module_version": "1.5.0",
          "model_name": "PasswordModel",
          "state": {
            "_dom_classes": [],
            "_model_module": "@jupyter-widgets/controls",
            "_model_module_version": "1.5.0",
            "_model_name": "PasswordModel",
            "_view_count": null,
            "_view_module": "@jupyter-widgets/controls",
            "_view_module_version": "1.5.0",
            "_view_name": "PasswordView",
            "continuous_update": true,
            "description": "Token:",
            "description_tooltip": null,
            "disabled": false,
            "layout": "IPY_MODEL_cf255c926aa54eeb8307e07d3085ee1c",
            "placeholder": "​",
            "style": "IPY_MODEL_dd1fe2ca6ddc4384844b633f81df0b9f",
            "value": ""
          }
        },
        "cf255c926aa54eeb8307e07d3085ee1c": {
          "model_module": "@jupyter-widgets/base",
          "model_module_version": "1.2.0",
          "model_name": "LayoutModel",
          "state": {
            "_model_module": "@jupyter-widgets/base",
            "_model_module_version": "1.2.0",
            "_model_name": "LayoutModel",
            "_view_count": null,
            "_view_module": "@jupyter-widgets/base",
            "_view_module_version": "1.2.0",
            "_view_name": "LayoutView",
            "align_content": null,
            "align_items": null,
            "align_self": null,
            "border": null,
            "bottom": null,
            "display": null,
            "flex": null,
            "flex_flow": null,
            "grid_area": null,
            "grid_auto_columns": null,
            "grid_auto_flow": null,
            "grid_auto_rows": null,
            "grid_column": null,
            "grid_gap": null,
            "grid_row": null,
            "grid_template_areas": null,
            "grid_template_columns": null,
            "grid_template_rows": null,
            "height": null,
            "justify_content": null,
            "justify_items": null,
            "left": null,
            "margin": null,
            "max_height": null,
            "max_width": null,
            "min_height": null,
            "min_width": null,
            "object_fit": null,
            "object_position": null,
            "order": null,
            "overflow": null,
            "overflow_x": null,
            "overflow_y": null,
            "padding": null,
            "right": null,
            "top": null,
            "visibility": null,
            "width": null
          }
        },
        "cff196fa66ef48edbaf2caced4701740": {
          "model_module": "@jupyter-widgets/base",
          "model_module_version": "1.2.0",
          "model_name": "LayoutModel",
          "state": {
            "_model_module": "@jupyter-widgets/base",
            "_model_module_version": "1.2.0",
            "_model_name": "LayoutModel",
            "_view_count": null,
            "_view_module": "@jupyter-widgets/base",
            "_view_module_version": "1.2.0",
            "_view_name": "LayoutView",
            "align_content": null,
            "align_items": null,
            "align_self": null,
            "border": null,
            "bottom": null,
            "display": null,
            "flex": null,
            "flex_flow": null,
            "grid_area": null,
            "grid_auto_columns": null,
            "grid_auto_flow": null,
            "grid_auto_rows": null,
            "grid_column": null,
            "grid_gap": null,
            "grid_row": null,
            "grid_template_areas": null,
            "grid_template_columns": null,
            "grid_template_rows": null,
            "height": null,
            "justify_content": null,
            "justify_items": null,
            "left": null,
            "margin": null,
            "max_height": null,
            "max_width": null,
            "min_height": null,
            "min_width": null,
            "object_fit": null,
            "object_position": null,
            "order": null,
            "overflow": null,
            "overflow_x": null,
            "overflow_y": null,
            "padding": null,
            "right": null,
            "top": null,
            "visibility": null,
            "width": null
          }
        },
        "dd1fe2ca6ddc4384844b633f81df0b9f": {
          "model_module": "@jupyter-widgets/controls",
          "model_module_version": "1.5.0",
          "model_name": "DescriptionStyleModel",
          "state": {
            "_model_module": "@jupyter-widgets/controls",
            "_model_module_version": "1.5.0",
            "_model_name": "DescriptionStyleModel",
            "_view_count": null,
            "_view_module": "@jupyter-widgets/base",
            "_view_module_version": "1.2.0",
            "_view_name": "StyleView",
            "description_width": ""
          }
        },
        "e506c968d93f491a9aca3e5df38c7243": {
          "model_module": "@jupyter-widgets/base",
          "model_module_version": "1.2.0",
          "model_name": "LayoutModel",
          "state": {
            "_model_module": "@jupyter-widgets/base",
            "_model_module_version": "1.2.0",
            "_model_name": "LayoutModel",
            "_view_count": null,
            "_view_module": "@jupyter-widgets/base",
            "_view_module_version": "1.2.0",
            "_view_name": "LayoutView",
            "align_content": null,
            "align_items": null,
            "align_self": null,
            "border": null,
            "bottom": null,
            "display": null,
            "flex": null,
            "flex_flow": null,
            "grid_area": null,
            "grid_auto_columns": null,
            "grid_auto_flow": null,
            "grid_auto_rows": null,
            "grid_column": null,
            "grid_gap": null,
            "grid_row": null,
            "grid_template_areas": null,
            "grid_template_columns": null,
            "grid_template_rows": null,
            "height": null,
            "justify_content": null,
            "justify_items": null,
            "left": null,
            "margin": null,
            "max_height": null,
            "max_width": null,
            "min_height": null,
            "min_width": null,
            "object_fit": null,
            "object_position": null,
            "order": null,
            "overflow": null,
            "overflow_x": null,
            "overflow_y": null,
            "padding": null,
            "right": null,
            "top": null,
            "visibility": null,
            "width": null
          }
        },
        "e5711797562f4cd682c4c900036faa51": {
          "model_module": "@jupyter-widgets/base",
          "model_module_version": "1.2.0",
          "model_name": "LayoutModel",
          "state": {
            "_model_module": "@jupyter-widgets/base",
            "_model_module_version": "1.2.0",
            "_model_name": "LayoutModel",
            "_view_count": null,
            "_view_module": "@jupyter-widgets/base",
            "_view_module_version": "1.2.0",
            "_view_name": "LayoutView",
            "align_content": null,
            "align_items": null,
            "align_self": null,
            "border": null,
            "bottom": null,
            "display": null,
            "flex": null,
            "flex_flow": null,
            "grid_area": null,
            "grid_auto_columns": null,
            "grid_auto_flow": null,
            "grid_auto_rows": null,
            "grid_column": null,
            "grid_gap": null,
            "grid_row": null,
            "grid_template_areas": null,
            "grid_template_columns": null,
            "grid_template_rows": null,
            "height": null,
            "justify_content": null,
            "justify_items": null,
            "left": null,
            "margin": null,
            "max_height": null,
            "max_width": null,
            "min_height": null,
            "min_width": null,
            "object_fit": null,
            "object_position": null,
            "order": null,
            "overflow": null,
            "overflow_x": null,
            "overflow_y": null,
            "padding": null,
            "right": null,
            "top": null,
            "visibility": null,
            "width": null
          }
        },
        "e90c17717adb4c3daaf9e5b26b16687a": {
          "model_module": "@jupyter-widgets/controls",
          "model_module_version": "1.5.0",
          "model_name": "CheckboxModel",
          "state": {
            "_dom_classes": [],
            "_model_module": "@jupyter-widgets/controls",
            "_model_module_version": "1.5.0",
            "_model_name": "CheckboxModel",
            "_view_count": null,
            "_view_module": "@jupyter-widgets/controls",
            "_view_module_version": "1.5.0",
            "_view_name": "CheckboxView",
            "description": "Add token as git credential?",
            "description_tooltip": null,
            "disabled": false,
            "indent": true,
            "layout": "IPY_MODEL_e506c968d93f491a9aca3e5df38c7243",
            "style": "IPY_MODEL_6b9c3d601e944b9aac4fcc5e6ff12dd5",
            "value": true
          }
        }
      }
    }
  },
  "nbformat": 4,
  "nbformat_minor": 0
}
